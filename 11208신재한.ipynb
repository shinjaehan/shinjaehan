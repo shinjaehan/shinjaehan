{
  "nbformat": 4,
  "nbformat_minor": 0,
  "metadata": {
    "colab": {
      "name": "11208신재한",
      "provenance": [],
      "authorship_tag": "ABX9TyMyaN6Z00jOlpH9SZ9Ah9jP",
      "include_colab_link": true
    },
    "kernelspec": {
      "name": "python3",
      "display_name": "Python 3"
    },
    "language_info": {
      "name": "python"
    }
  },
  "cells": [
    {
      "cell_type": "markdown",
      "metadata": {
        "id": "view-in-github",
        "colab_type": "text"
      },
      "source": [
        "<a href=\"https://colab.research.google.com/github/shinjaehan/shinjaehan/blob/main/11208%EC%8B%A0%EC%9E%AC%ED%95%9C.ipynb\" target=\"_parent\"><img src=\"https://colab.research.google.com/assets/colab-badge.svg\" alt=\"Open In Colab\"/></a>"
      ]
    },
    {
      "cell_type": "code",
      "execution_count": 1,
      "metadata": {
        "colab": {
          "base_uri": "https://localhost:8080/"
        },
        "id": "pN-DsJdXC8te",
        "outputId": "ed92fab3-3658-4d08-80ff-71c3c9b1fb6b"
      },
      "outputs": [
        {
          "output_type": "stream",
          "name": "stdout",
          "text": [
            "Happy Programing~~~^^\n",
            "신재한\n",
            "한양공업고등학교\n"
          ]
        }
      ],
      "source": [
        "print(\"Happy Programing~~~^^\")\n",
        "print(\"신재한\")\n",
        "print(\"한양공업고등학교\")"
      ]
    },
    {
      "cell_type": "code",
      "source": [
        "#11208신재한\n",
        "#1 변수 사용하기\n",
        "age= 50000*10\n",
        "print(age)"
      ],
      "metadata": {
        "colab": {
          "base_uri": "https://localhost:8080/"
        },
        "id": "OdDAwxprJz6Z",
        "outputId": "cb7df75e-91e9-4e97-8f11-c693d0cd5910"
      },
      "execution_count": 33,
      "outputs": [
        {
          "output_type": "stream",
          "name": "stdout",
          "text": [
            "500000\n"
          ]
        }
      ]
    },
    {
      "cell_type": "code",
      "source": [
        "#2.문자열을 정수로 변환\n",
        "age=\"2020\"\n",
        "print(age)\n",
        "print(int(age)-1)\n",
        "print(int(age)-2)\n",
        "print(int(age)-3)\n",
        "\n"
      ],
      "metadata": {
        "colab": {
          "base_uri": "https://localhost:8080/"
        },
        "id": "18tGtNPuLP07",
        "outputId": "33b6ef08-5976-4f29-e940-35cc3bbca81f"
      },
      "execution_count": 97,
      "outputs": [
        {
          "output_type": "stream",
          "name": "stdout",
          "text": [
            "2020\n",
            "2019\n",
            "2018\n",
            "2017\n"
          ]
        }
      ]
    },
    {
      "cell_type": "code",
      "source": [
        "#3 아래에 문자열에서 '홀'만 출력하세요\n",
        "s = \"홀짝홀짝홀짝\"\n",
        "print(s[::2 ])"
      ],
      "metadata": {
        "colab": {
          "base_uri": "https://localhost:8080/"
        },
        "id": "XuKE2dSFMFq0",
        "outputId": "dc0c6183-6ec8-44ac-ec9d-1e0be78874fd"
      },
      "execution_count": 38,
      "outputs": [
        {
          "output_type": "stream",
          "name": "stdout",
          "text": [
            "홀홀홀\n"
          ]
        }
      ]
    },
    {
      "cell_type": "code",
      "source": [
        "#4. 문자열을 거꾸로 뒤집어 출력하세요.\n",
        "s=\"PYTHON\"\n",
        "s_list =list(s)\n",
        "s_list.reverse()\n",
        "print(''.join(s_list))"
      ],
      "metadata": {
        "colab": {
          "base_uri": "https://localhost:8080/"
        },
        "id": "Ki4wwT2_OoD4",
        "outputId": "80d1ab83-32a0-421c-d9d5-fbe8b09228f3"
      },
      "execution_count": 18,
      "outputs": [
        {
          "output_type": "stream",
          "name": "stdout",
          "text": [
            "NOHTYP\n"
          ]
        }
      ]
    },
    {
      "cell_type": "code",
      "source": [
        "#5 movie_rank 리스트에는 아래와 같이 네 개의 영화 제목이 바인딩되어 있다.\n",
        "movie_rank = ['닥터스트레인지','스프릿','럭키','베트맨']\n",
        "movie_rank.insert(1,\"슈퍼맨\")\n",
        "print(movie_rank)\n"
      ],
      "metadata": {
        "colab": {
          "base_uri": "https://localhost:8080/"
        },
        "id": "PHstgrS3QBAK",
        "outputId": "7284a925-50a4-45fe-8ede-9362dd3e1dcf"
      },
      "execution_count": 46,
      "outputs": [
        {
          "output_type": "stream",
          "name": "stdout",
          "text": [
            "['닥터스트레인지', '슈퍼맨', '스프릿', '럭키', '베트맨']\n"
          ]
        }
      ]
    },
    {
      "cell_type": "code",
      "source": [
        "#6슬라이싱을 사용하여 홀수만 출력하라\n",
        "nums = [1,2,3,4,5,6,7,8,9,10]\n",
        "set(range(1,10,2))"
      ],
      "metadata": {
        "colab": {
          "base_uri": "https://localhost:8080/"
        },
        "id": "nR4dcQamR7im",
        "outputId": "1eeed515-4c19-4396-b618-4d22405a246b"
      },
      "execution_count": 77,
      "outputs": [
        {
          "output_type": "execute_result",
          "data": {
            "text/plain": [
              "{1, 3, 5, 7, 9}"
            ]
          },
          "metadata": {},
          "execution_count": 77
        }
      ]
    },
    {
      "cell_type": "code",
      "source": [
        "#7 리스트에 있는 값을 오름차순으로 정렬하세요.\n",
        "data = [2,4,3,1,5,10,9]\n",
        "data.sort()\n",
        "print(data)"
      ],
      "metadata": {
        "colab": {
          "base_uri": "https://localhost:8080/"
        },
        "id": "EODGnvI2SYK5",
        "outputId": "dde8bb25-9ba9-4cd4-c9fa-34985c813f4c"
      },
      "execution_count": 87,
      "outputs": [
        {
          "output_type": "stream",
          "name": "stdout",
          "text": [
            "[1, 2, 3, 4, 5, 9, 10]\n"
          ]
        }
      ]
    },
    {
      "cell_type": "code",
      "source": [
        "#8 문자열 출력\n",
        "name1=\"김민수\"\n",
        "age1 = 10\n",
        "name2 = \"이철희\"\n",
        "age2 = 13\n",
        "print(\"이름: %s 나이: %d\"%(name1, age1))\n",
        "print(\"이름: %s 나이: %d\"%(name2, age2))"
      ],
      "metadata": {
        "colab": {
          "base_uri": "https://localhost:8080/"
        },
        "id": "3TZxRM1NSbtM",
        "outputId": "acebc7ab-7855-4f39-d16a-a870c2598810"
      },
      "execution_count": 95,
      "outputs": [
        {
          "output_type": "stream",
          "name": "stdout",
          "text": [
            "이름: 김민수 나이: 10\n",
            "이름: 이철희 나이: 13\n"
          ]
        }
      ]
    }
  ]
}