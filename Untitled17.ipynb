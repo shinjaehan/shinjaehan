{
  "nbformat": 4,
  "nbformat_minor": 0,
  "metadata": {
    "colab": {
      "name": "Untitled17.ipynb",
      "provenance": [],
      "authorship_tag": "ABX9TyO14FSINmpiwpqIguq/eDLy",
      "include_colab_link": true
    },
    "kernelspec": {
      "name": "python3",
      "display_name": "Python 3"
    },
    "language_info": {
      "name": "python"
    }
  },
  "cells": [
    {
      "cell_type": "markdown",
      "metadata": {
        "id": "view-in-github",
        "colab_type": "text"
      },
      "source": [
        "<a href=\"https://colab.research.google.com/github/shinjaehan/shinjaehan/blob/main/Untitled17.ipynb\" target=\"_parent\"><img src=\"https://colab.research.google.com/assets/colab-badge.svg\" alt=\"Open In Colab\"/></a>"
      ]
    },
    {
      "cell_type": "code",
      "execution_count": 1,
      "metadata": {
        "colab": {
          "base_uri": "https://localhost:8080/"
        },
        "id": "pN-DsJdXC8te",
        "outputId": "ed92fab3-3658-4d08-80ff-71c3c9b1fb6b"
      },
      "outputs": [
        {
          "output_type": "stream",
          "name": "stdout",
          "text": [
            "Happy Programing~~~^^\n",
            "신재한\n",
            "한양공업고등학교\n"
          ]
        }
      ],
      "source": [
        "print(\"Happy Programing~~~^^\")\n",
        "print(\"신재한\")\n",
        "print(\"한양공업고등학교\")"
      ]
    }
  ]
}